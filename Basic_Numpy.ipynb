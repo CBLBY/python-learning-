{
  "nbformat": 4,
  "nbformat_minor": 0,
  "metadata": {
    "colab": {
      "name": "Basic Numpy.ipynb",
      "version": "0.3.2",
      "provenance": [],
      "collapsed_sections": [],
      "include_colab_link": true
    },
    "kernelspec": {
      "display_name": "Python 3",
      "language": "python",
      "name": "python3"
    }
  },
  "cells": [
    {
      "cell_type": "markdown",
      "metadata": {
        "id": "view-in-github",
        "colab_type": "text"
      },
      "source": [
        "<a href=\"https://colab.research.google.com/github/CBLBY/python-learning-/blob/master/Basic_Numpy.ipynb\" target=\"_parent\"><img src=\"https://colab.research.google.com/assets/colab-badge.svg\" alt=\"Open In Colab\"/></a>"
      ]
    },
    {
      "metadata": {
        "id": "bkM-2vwuCgY1",
        "colab_type": "text"
      },
      "cell_type": "markdown",
      "source": [
        "# Pandas learning"
      ]
    },
    {
      "metadata": {
        "id": "h8b3kwdmCgY7",
        "colab_type": "text"
      },
      "cell_type": "markdown",
      "source": [
        "# 基础属性"
      ]
    },
    {
      "metadata": {
        "id": "V8HfTzDtCgZB",
        "colab_type": "code",
        "outputId": "6ac4575b-265e-4215-aadb-953e21912158",
        "colab": {
          "base_uri": "https://localhost:8080/",
          "height": 53
        }
      },
      "cell_type": "code",
      "source": [
        "import numpy as np\n",
        "array = np.array([[1,2,3],[4,5,6]])\n",
        "print(array)"
      ],
      "execution_count": 0,
      "outputs": [
        {
          "output_type": "stream",
          "text": [
            "[[1 2 3]\n",
            " [4 5 6]]\n"
          ],
          "name": "stdout"
        }
      ]
    },
    {
      "metadata": {
        "id": "lgzbmtB8CgZP",
        "colab_type": "code",
        "outputId": "0727b657-aa51-41ee-89ab-2c010d3adafd",
        "colab": {}
      },
      "cell_type": "code",
      "source": [
        "#维度\n",
        "ndim = array.ndim\n",
        "print(\"ndim is\" , ndim)"
      ],
      "execution_count": 0,
      "outputs": [
        {
          "output_type": "stream",
          "text": [
            "ndim is 2\n"
          ],
          "name": "stdout"
        }
      ]
    },
    {
      "metadata": {
        "id": "JV1nFoYbCgZX",
        "colab_type": "code",
        "outputId": "5f1c53e2-6fc2-43b7-85af-63e50cf6dd7b",
        "colab": {}
      },
      "cell_type": "code",
      "source": [
        "#row and clums\n",
        "shape = array.shape\n",
        "print(\"行数与列数\" , shape)"
      ],
      "execution_count": 0,
      "outputs": [
        {
          "output_type": "stream",
          "text": [
            "行数与列数 (2, 3)\n"
          ],
          "name": "stdout"
        }
      ]
    },
    {
      "metadata": {
        "id": "sLHLG94PCgZe",
        "colab_type": "code",
        "outputId": "3362d5b9-9734-4fe8-a400-a0f57cd3fdae",
        "colab": {}
      },
      "cell_type": "code",
      "source": [
        "#元素个数\n",
        "size = array.size\n",
        "print(\"个数是\" , size)"
      ],
      "execution_count": 0,
      "outputs": [
        {
          "output_type": "stream",
          "text": [
            "个数是 6\n"
          ],
          "name": "stdout"
        }
      ]
    },
    {
      "metadata": {
        "id": "9UOoZmHLCgZj",
        "colab_type": "text"
      },
      "cell_type": "markdown",
      "source": [
        "数组创建"
      ]
    },
    {
      "metadata": {
        "id": "o1z7YG1JCgZn",
        "colab_type": "code",
        "outputId": "b030be04-687b-4b84-e0f5-ca238a2683b7",
        "colab": {
          "base_uri": "https://localhost:8080/",
          "height": 53
        }
      },
      "cell_type": "code",
      "source": [
        "import numpy as np\n",
        "x = np.array([[1,2,3],\n",
        "             [4,5,6]])\n",
        "print(x)\n"
      ],
      "execution_count": 0,
      "outputs": [
        {
          "output_type": "stream",
          "text": [
            "[[1 2 3]\n",
            " [4 5 6]]\n"
          ],
          "name": "stdout"
        }
      ]
    },
    {
      "metadata": {
        "id": "pA21g9FvCgZr",
        "colab_type": "code",
        "outputId": "1afa878c-8bfc-4f34-f8b5-ecc8c5f107e5",
        "colab": {
          "base_uri": "https://localhost:8080/",
          "height": 107
        }
      },
      "cell_type": "code",
      "source": [
        "#创建全零矩阵\n",
        "x0 = np.zeros((3,2)) #输入全零数组格式\n",
        "x00 = np.zeros_like(x, dtype = float)\n",
        "print(x0)\n",
        "print(x00)"
      ],
      "execution_count": 0,
      "outputs": [
        {
          "output_type": "stream",
          "text": [
            "[[0. 0.]\n",
            " [0. 0.]\n",
            " [0. 0.]]\n",
            "[[0. 0. 0.]\n",
            " [0. 0. 0.]]\n"
          ],
          "name": "stdout"
        }
      ]
    },
    {
      "metadata": {
        "id": "WWAlrAPNCgZx",
        "colab_type": "code",
        "outputId": "5e1a3f8f-080b-4185-9bf5-5dd3c6137477",
        "colab": {
          "base_uri": "https://localhost:8080/",
          "height": 161
        }
      },
      "cell_type": "code",
      "source": [
        "#创建全一矩阵\n",
        "x1 = np.ones((2,2,4))\n",
        "print(x1)\n",
        "print(x1.shape)\n",
        "x11 = np.ones_like(x, dtype = int)\n",
        "print(x11)"
      ],
      "execution_count": 0,
      "outputs": [
        {
          "output_type": "stream",
          "text": [
            "[[[1. 1. 1. 1.]\n",
            "  [1. 1. 1. 1.]]\n",
            "\n",
            " [[1. 1. 1. 1.]\n",
            "  [1. 1. 1. 1.]]]\n",
            "(2, 2, 4)\n",
            "[[1 1 1]\n",
            " [1 1 1]]\n"
          ],
          "name": "stdout"
        }
      ]
    },
    {
      "metadata": {
        "id": "BAuQ2JVFCgZ2",
        "colab_type": "code",
        "outputId": "087ee25c-5ef3-494b-e6ec-59662dbc5acc",
        "colab": {
          "base_uri": "https://localhost:8080/",
          "height": 143
        }
      },
      "cell_type": "code",
      "source": [
        "#创建对角矩阵\n",
        "xe = np.eye(3,3)\n",
        "xd = np.diag([1,2,3,4])\n",
        "print(xe)\n",
        "print(xd)"
      ],
      "execution_count": 0,
      "outputs": [
        {
          "output_type": "stream",
          "text": [
            "[[1. 0. 0.]\n",
            " [0. 1. 0.]\n",
            " [0. 0. 1.]]\n",
            "[[1 0 0 0]\n",
            " [0 2 0 0]\n",
            " [0 0 3 0]\n",
            " [0 0 0 4]]\n"
          ],
          "name": "stdout"
        }
      ]
    },
    {
      "metadata": {
        "id": "_g9H99TbCgZ7",
        "colab_type": "code",
        "outputId": "c7efe0bb-5f93-47c2-d4f4-84f0a6c3a35f",
        "colab": {}
      },
      "cell_type": "code",
      "source": [
        "#创建全空数组\n",
        "xblank = np.empty((2,3)) \n",
        "print(xblank)\n",
        "if x0[0,0] == xblank[0,0] :\n",
        "    print(\"Those all equal to zero\")\n",
        "else :\n",
        "    print(\"The empty array is not equal to zero \")"
      ],
      "execution_count": 0,
      "outputs": [
        {
          "output_type": "stream",
          "text": [
            "[[0. 0. 0.]\n",
            " [0. 0. 0.]]\n",
            "Those all equal to zero\n"
          ],
          "name": "stdout"
        }
      ]
    },
    {
      "metadata": {
        "id": "t_diKrTfCgZ-",
        "colab_type": "code",
        "outputId": "58d9ab13-7fb7-4e4d-ea78-360ff500ddf0",
        "colab": {
          "base_uri": "https://localhost:8080/",
          "height": 71
        }
      },
      "cell_type": "code",
      "source": [
        "#构造连续数组\n",
        "xline = np.arange(0,11,2) #arange排列\n",
        "print(xline)\n",
        "xlinespace = np.linspace(0,11,2) #建立等差数列，告诉数组的数目\n",
        "print(xlinespace)\n",
        "xlog = np.logspace(2,3,4) #10^2如此类推\n",
        "print(xlog)"
      ],
      "execution_count": 0,
      "outputs": [
        {
          "output_type": "stream",
          "text": [
            "[ 0  2  4  6  8 10]\n",
            "[ 0. 11.]\n",
            "[ 100.          215.443469    464.15888336 1000.        ]\n"
          ],
          "name": "stdout"
        }
      ]
    },
    {
      "metadata": {
        "id": "506vVL17CgaA",
        "colab_type": "code",
        "outputId": "b4df463b-565b-49e6-9614-7c05afa6e856",
        "colab": {}
      },
      "cell_type": "code",
      "source": [
        "changed_xline = xline.reshape(2,3) #形状要一致，不然会报错\n",
        "print(changed_xline)\n",
        "a = np.array([[1,2,3],\n",
        "             [4,5,6]])\n",
        "b = a.reshape(3,2) #一行一行数的顺序改变shape\n",
        "print(b)"
      ],
      "execution_count": 0,
      "outputs": [
        {
          "output_type": "stream",
          "text": [
            "[[ 0  2  4]\n",
            " [ 6  8 10]]\n",
            "[[1 2]\n",
            " [3 4]\n",
            " [5 6]]\n"
          ],
          "name": "stdout"
        }
      ]
    },
    {
      "metadata": {
        "id": "YQjt4yjWOZUV",
        "colab_type": "code",
        "outputId": "ad9b5ced-2db5-434c-9749-6f5a8b41c919",
        "colab": {
          "base_uri": "https://localhost:8080/",
          "height": 233
        }
      },
      "cell_type": "code",
      "source": [
        "#数组的轴\n",
        "a = np.arange(24).reshape(2,3,4)\n",
        "print(a)\n",
        "print(np.ndim(a)) #三维数组\n",
        "# 0轴为第一层，1轴为第二层，2轴为第三层\n",
        "print(a[1])\n",
        "print(a[1][0] [0]) #三个[]是三个轴，代表每个轴的第几个索引"
      ],
      "execution_count": 0,
      "outputs": [
        {
          "output_type": "stream",
          "text": [
            "[[[ 0  1  2  3]\n",
            "  [ 4  5  6  7]\n",
            "  [ 8  9 10 11]]\n",
            "\n",
            " [[12 13 14 15]\n",
            "  [16 17 18 19]\n",
            "  [20 21 22 23]]]\n",
            "3\n",
            "[[12 13 14 15]\n",
            " [16 17 18 19]\n",
            " [20 21 22 23]]\n",
            "12\n"
          ],
          "name": "stdout"
        }
      ]
    },
    {
      "metadata": {
        "id": "QcyZBYsFCgaF",
        "colab_type": "text"
      },
      "cell_type": "markdown",
      "source": [
        "#矩阵运算"
      ]
    },
    {
      "metadata": {
        "id": "mH9k44DICgaG",
        "colab_type": "code",
        "outputId": "699cb1dd-e9cf-4fe8-9953-1ec945adfa39",
        "colab": {}
      },
      "cell_type": "code",
      "source": [
        "#一维矩阵\n",
        "a = np.array([1,2,3,4])\n",
        "b = np.array([5,6,7,8])\n",
        "plus = a + b #一维加法\n",
        "print(plus)\n",
        "sub = b - a #一维减法\n",
        "print(sub)\n",
        "mul = a*b #一维乘法\n",
        "print(mul)\n",
        "mul2 = a.dot(b) #点乘（内积） 1*5+2*6+3*7+4*8\n",
        "print(mul2)\n",
        "\n",
        "print(b > 6) #逻辑运算\n",
        "d = np.arange(4) #直接生成范围内一位数组\n",
        "print(d)"
      ],
      "execution_count": 0,
      "outputs": [
        {
          "output_type": "stream",
          "text": [
            "[ 6  8 10 12]\n",
            "[4 4 4 4]\n",
            "[ 5 12 21 32]\n",
            "70\n",
            "[False False  True  True]\n",
            "[0 1 2 3]\n"
          ],
          "name": "stdout"
        }
      ]
    },
    {
      "metadata": {
        "id": "i8sRHv_VCgaK",
        "colab_type": "code",
        "outputId": "54ca6239-5682-4f78-cbc8-a725a927c77d",
        "colab": {
          "base_uri": "https://localhost:8080/",
          "height": 179
        }
      },
      "cell_type": "code",
      "source": [
        "#多维运算\n",
        "a = np.array([[1,2],\n",
        "             [3,4]])\n",
        "b = np.arange(5,9).reshape(2,2)\n",
        "print(a,b)\n",
        "c = a.dot(b) #第一种矩阵乘法\n",
        "print(c)\n",
        "c1 = np.dot(a,b) #第二种矩阵乘法\n",
        "c2 = np.dot(b,a) #矩阵乘法没有交换律\n",
        "print(c1)\n",
        "print(c2)"
      ],
      "execution_count": 0,
      "outputs": [
        {
          "output_type": "stream",
          "text": [
            "[[1 2]\n",
            " [3 4]] [[5 6]\n",
            " [7 8]]\n",
            "[[19 22]\n",
            " [43 50]]\n",
            "[[19 22]\n",
            " [43 50]]\n",
            "[[23 34]\n",
            " [31 46]]\n"
          ],
          "name": "stdout"
        }
      ]
    },
    {
      "metadata": {
        "id": "osDtUu2bDOuL",
        "colab_type": "code",
        "outputId": "0b017aa3-e61c-4305-d996-c6e221796a7e",
        "colab": {
          "base_uri": "https://localhost:8080/",
          "height": 125
        }
      },
      "cell_type": "code",
      "source": [
        "#各种元素索引\n",
        "a = np.arange(0,4).reshape(2,2)\n",
        "print(a)\n",
        "print(\"最小元素：\", np.argmin(a))\n",
        "print(\"最大元素：\", np.argmax(a))\n",
        "print(\"矩阵均值：\", np.mean(a), np.average(a))\n",
        "print(\"中位数：\", np.median(a))"
      ],
      "execution_count": 0,
      "outputs": [
        {
          "output_type": "stream",
          "text": [
            "[[0 1]\n",
            " [2 3]]\n",
            "最小元素： 0\n",
            "最大元素： 3\n",
            "矩阵均值： 1.5 1.5\n",
            "中位数： 1.5\n"
          ],
          "name": "stdout"
        }
      ]
    },
    {
      "metadata": {
        "id": "CXx3actAiYz9",
        "colab_type": "text"
      },
      "cell_type": "markdown",
      "source": [
        "# 索引与切片\n"
      ]
    },
    {
      "metadata": {
        "id": "loYenUM1ienF",
        "colab_type": "code",
        "colab": {
          "base_uri": "https://localhost:8080/",
          "height": 89
        },
        "outputId": "30f669d8-e57f-4672-9b81-c5a1b4c41870"
      },
      "cell_type": "code",
      "source": [
        "import numpy as np \n",
        "a = np.arange(0,9).reshape(3,3)\n",
        "print(a)\n",
        "print(a[:,0])"
      ],
      "execution_count": 4,
      "outputs": [
        {
          "output_type": "stream",
          "text": [
            "[[0 1 2]\n",
            " [3 4 5]\n",
            " [6 7 8]]\n",
            "[0 3 6]\n"
          ],
          "name": "stdout"
        }
      ]
    }
  ]
}