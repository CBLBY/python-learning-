{
 "cells": [
  {
   "cell_type": "markdown",
   "metadata": {},
   "source": [
    "# 输入输出"
   ]
  },
  {
   "cell_type": "code",
   "execution_count": 1,
   "metadata": {},
   "outputs": [
    {
     "name": "stdout",
     "output_type": "stream",
     "text": [
      "请输入你的名字chenbingliang\n",
      "你好chenbingliang\n"
     ]
    }
   ],
   "source": [
    "name=input(\"请输入你的名字\")\n",
    "print(\"你好\"+name)"
   ]
  },
  {
   "cell_type": "markdown",
   "metadata": {},
   "source": [
    "字符串永远用双引号括着，连接时用加号连接"
   ]
  },
  {
   "cell_type": "code",
   "execution_count": 2,
   "metadata": {},
   "outputs": [
    {
     "name": "stdout",
     "output_type": "stream",
     "text": [
      "username:cbl\n",
      "password12345\n",
      "cbl 12345\n"
     ]
    }
   ],
   "source": [
    "username=input(\"username:\")\n",
    "password=input(\"password\")\n",
    "print(username,password)"
   ]
  },
  {
   "cell_type": "markdown",
   "metadata": {},
   "source": [
    "input里面相当于input提示语\n",
    "print时，变量与变量之间用逗号相隔"
   ]
  },
  {
   "cell_type": "markdown",
   "metadata": {},
   "source": [
    "# 格式输入输出"
   ]
  },
  {
   "cell_type": "code",
   "execution_count": 3,
   "metadata": {},
   "outputs": [
    {
     "name": "stdout",
     "output_type": "stream",
     "text": [
      "name:cbl\n",
      "age:21\n",
      "job:student\n",
      "---info of---\n",
      "name:cbl\n",
      "age:21\n",
      "job:student\n"
     ]
    }
   ],
   "source": [
    "#法一\n",
    "name=input(\"name:\")\n",
    "age=input(\"age:\")\n",
    "job=input(\"job:\")\n",
    "info='''---info of---'''+'''\n",
    "name:'''+name+'''\n",
    "age:'''+age+'''\n",
    "job:'''+job\n",
    "print(info)"
   ]
  },
  {
   "cell_type": "markdown",
   "metadata": {},
   "source": [
    "关于''' ''' 运算符，是一段一段字符的意思，而python又是以行为单位的\n",
    "所以第一个'''要在第一行，第二个'''要在其他行"
   ]
  },
  {
   "cell_type": "code",
   "execution_count": 3,
   "metadata": {},
   "outputs": [
    {
     "name": "stdout",
     "output_type": "stream",
     "text": [
      "name:cbl\n",
      "age:21\n",
      "job:student\n",
      "--info of---\n",
      "name:cbl\n",
      "age:'21\n",
      "job:student\n"
     ]
    }
   ],
   "source": [
    "#法二\n",
    "name=input(\"name:\")\n",
    "age=int(input(\"age:\"))\n",
    "job=input(\"job:\")\n",
    "info='''--info of---'''+'''\n",
    "name:%s\n",
    "age:'%d\n",
    "job:%s'''%(name,age,job)\n",
    "print(info)"
   ]
  },
  {
   "cell_type": "markdown",
   "metadata": {},
   "source": [
    "%紧跟变量类型(格式化字符)，然后在后面%补充格式的顺序"
   ]
  },
  {
   "cell_type": "code",
   "execution_count": 5,
   "metadata": {},
   "outputs": [
    {
     "name": "stdout",
     "output_type": "stream",
     "text": [
      "name:cbl\n",
      "age:22\n",
      "job:student\n",
      "---info of---\n",
      "name:cbl\n",
      "age:22\n",
      "job:student\n"
     ]
    }
   ],
   "source": [
    "#法三\n",
    "name=input(\"name:\")\n",
    "age=int(input(\"age:\"))#如果不用int()就会报错(虽然输入为数字，但是print(type(age))为str型)，因为python如果不强制类型转化，就会默认字符型\n",
    "job=input(\"job:\")\n",
    "info='''---info of---\n",
    "name:{_name}\n",
    "age:{_age}\n",
    "job:{_job}'''.format(_name=name,_age=age,_job=job)\n",
    "print(info)\n"
   ]
  },
  {
   "cell_type": "markdown",
   "metadata": {},
   "source": [
    ".format()格式映射，自定义名称时需要（名称=变量）\n",
    "没有自定义名称用数字代替，直接（变量1，变量2）"
   ]
  },
  {
   "cell_type": "code",
   "execution_count": 6,
   "metadata": {},
   "outputs": [
    {
     "name": "stdout",
     "output_type": "stream",
     "text": [
      "name:cbl\n",
      "age:22\n",
      "job:student\n",
      "---info of---\n",
      "name:cbl\n",
      "age:22\n",
      "job:student\n"
     ]
    }
   ],
   "source": [
    "#法四\n",
    "name=input(\"name:\")\n",
    "age=int(input(\"age:\"))#如果不用int()就会报错(虽然输入为数字，但是print(type(age))为str型)，因为python如果不强制类型转化，就会默认字符型\n",
    "job=input(\"job:\")\n",
    "info='''---info of---\n",
    "name:{0}\n",
    "age:{1}\n",
    "job:{2}'''.format(name,age,job)\n",
    "print(info)"
   ]
  },
  {
   "cell_type": "markdown",
   "metadata": {},
   "source": [
    "# 密码输入"
   ]
  },
  {
   "cell_type": "code",
   "execution_count": 8,
   "metadata": {},
   "outputs": [
    {
     "name": "stdout",
     "output_type": "stream",
     "text": [
      "请输入密码········\n",
      "123456\n"
     ]
    }
   ],
   "source": [
    "import getpass\n",
    "pwd=getpass.getpass(\"请输入密码\")\n",
    "print(pwd)"
   ]
  },
  {
   "cell_type": "markdown",
   "metadata": {},
   "source": [
    "getpass包，输入功能的括号里面就是提示语句"
   ]
  },
  {
   "cell_type": "markdown",
   "metadata": {},
   "source": [
    "# 验证python缩进"
   ]
  },
  {
   "cell_type": "code",
   "execution_count": 16,
   "metadata": {},
   "outputs": [
    {
     "name": "stdout",
     "output_type": "stream",
     "text": [
      "请输入账号cbl\n",
      "请输入密码········\n",
      "欢迎您,cbl\n"
     ]
    }
   ],
   "source": [
    "import getpass\n",
    "_username=\"cbl\"\n",
    "_password=\"123456\"\n",
    "username=input(\"请输入账号\")\n",
    "password=getpass.getpass(\"请输入密码\")\n",
    "if _username==username and _password==password :\n",
    "    print(\"欢迎您,%s\"%_username)\n",
    "else:\n",
    "    print(\"请输入正确的账号密码\")"
   ]
  },
  {
   "cell_type": "markdown",
   "metadata": {},
   "source": [
    "百分号等映射应该紧跟着字符串结束符后，并不是print外面"
   ]
  },
  {
   "cell_type": "markdown",
   "metadata": {},
   "source": [
    "# 指向-修改字符串"
   ]
  },
  {
   "cell_type": "code",
   "execution_count": 19,
   "metadata": {},
   "outputs": [
    {
     "name": "stdout",
     "output_type": "stream",
     "text": [
      "cbl cbl\n",
      "mp cbl\n"
     ]
    }
   ],
   "source": [
    "name1=\"cbl\"\n",
    "name2=name1\n",
    "print(name1,name2)\n",
    "name1=\"mp\"\n",
    "print(name1,name2)\n"
   ]
  },
  {
   "cell_type": "markdown",
   "metadata": {},
   "source": [
    "name1指针指向cbl地址\n",
    "name2指针指向name1\n",
    "name1指针指向mp地址，name2不变"
   ]
  },
  {
   "cell_type": "markdown",
   "metadata": {},
   "source": [
    "# 关于注释"
   ]
  },
  {
   "cell_type": "code",
   "execution_count": 2,
   "metadata": {},
   "outputs": [
    {
     "data": {
      "text/plain": [
       "'多行注释\\n多行注释1\\n'"
      ]
     },
     "execution_count": 2,
     "metadata": {},
     "output_type": "execute_result"
    }
   ],
   "source": [
    "#第一种注释\n",
    "'''多行注释\n",
    "多行注释1\n",
    "'''"
   ]
  },
  {
   "cell_type": "code",
   "execution_count": 3,
   "metadata": {},
   "outputs": [
    {
     "name": "stdout",
     "output_type": "stream",
     "text": [
      "\n",
      "第一行\n",
      "第二行\n",
      "第三行\n",
      "\n"
     ]
    }
   ],
   "source": [
    "str='''\n",
    "第一行\n",
    "第二行\n",
    "第三行\n",
    "'''\n",
    "print(str)"
   ]
  },
  {
   "cell_type": "markdown",
   "metadata": {},
   "source": [
    "多行字符串"
   ]
  },
  {
   "cell_type": "markdown",
   "metadata": {},
   "source": [
    "# %r 与 %s"
   ]
  },
  {
   "cell_type": "code",
   "execution_count": 5,
   "metadata": {},
   "outputs": [
    {
     "name": "stdout",
     "output_type": "stream",
     "text": [
      "我刚说:我已经22岁了\n",
      "我刚说:'我已经22岁了'\n"
     ]
    }
   ],
   "source": [
    "test = \"我已经%d岁了\"%22\n",
    "print(\"我刚说:%s\"%test)\n",
    "print(\"我刚说:%r\"%test)"
   ]
  },
  {
   "cell_type": "markdown",
   "metadata": {},
   "source": [
    "%r在打印时能够重现它代表的对象"
   ]
  },
  {
   "cell_type": "markdown",
   "metadata": {},
   "source": [
    "# 模块初始"
   ]
  },
  {
   "cell_type": "code",
   "execution_count": 8,
   "metadata": {},
   "outputs": [
    {
     "name": "stdout",
     "output_type": "stream",
     "text": [
      "['', 'D:\\\\Anaconda3\\\\python36.zip', 'D:\\\\Anaconda3\\\\DLLs', 'D:\\\\Anaconda3\\\\lib', 'D:\\\\Anaconda3', 'D:\\\\Anaconda3\\\\lib\\\\site-packages', 'D:\\\\Anaconda3\\\\lib\\\\site-packages\\\\Babel-2.5.0-py3.6.egg', 'D:\\\\Anaconda3\\\\lib\\\\site-packages\\\\win32', 'D:\\\\Anaconda3\\\\lib\\\\site-packages\\\\win32\\\\lib', 'D:\\\\Anaconda3\\\\lib\\\\site-packages\\\\Pythonwin', 'D:\\\\Anaconda3\\\\lib\\\\site-packages\\\\IPython\\\\extensions', 'C:\\\\Users\\\\acer\\\\.ipython']\n",
      "['D:\\\\Anaconda3\\\\lib\\\\site-packages\\\\ipykernel_launcher.py', '-f', 'C:\\\\Users\\\\acer\\\\AppData\\\\Roaming\\\\jupyter\\\\runtime\\\\kernel-da6d4e4c-5c58-484b-80dd-06fd5cd3dce1.json']\n",
      "C:\\Users\\acer\\AppData\\Roaming\\jupyter\\runtime\\kernel-da6d4e4c-5c58-484b-80dd-06fd5cd3dce1.json\n"
     ]
    }
   ],
   "source": [
    "import sys\n",
    "# 打印环境变量\n",
    "print(sys.path)\n",
    "\n",
    "print(sys.argv)\n",
    "print(sys.argv[2])"
   ]
  },
  {
   "cell_type": "markdown",
   "metadata": {},
   "source": [
    "argv就是所谓的参数变量"
   ]
  },
  {
   "cell_type": "markdown",
   "metadata": {},
   "source": [
    "# 三元运算"
   ]
  },
  {
   "cell_type": "code",
   "execution_count": 9,
   "metadata": {},
   "outputs": [
    {
     "name": "stdout",
     "output_type": "stream",
     "text": [
      "3\n"
     ]
    }
   ],
   "source": [
    "a = 1\n",
    "b = 2\n",
    "c = 3\n",
    "d = a if a > b else c #变量 = 正确所选择的变量一 if 判断语句 else 错误所选择的变量二\n",
    "print(d)"
   ]
  },
  {
   "cell_type": "markdown",
   "metadata": {},
   "source": [
    "# 二进制与字符串间的转换"
   ]
  },
  {
   "cell_type": "code",
   "execution_count": 12,
   "metadata": {},
   "outputs": [
    {
     "name": "stdout",
     "output_type": "stream",
     "text": [
      "大家好\n",
      "b'\\xe5\\xa4\\xa7\\xe5\\xae\\xb6\\xe5\\xa5\\xbd'\n",
      "大家好\n"
     ]
    }
   ],
   "source": [
    "msg = \"大家好\"\n",
    "print(msg)\n",
    "print(msg.encode(encoding = \"utf-8\"))\n",
    "print(msg.encode(encoding = \"utf-8\").decode(encoding = \"utf-8\"))"
   ]
  },
  {
   "cell_type": "markdown",
   "metadata": {},
   "source": [
    "调用的方法名为encode， 属性为encoding即编码的类型\n",
    "decode 只能在encode的前提下进行，同样要标注上编码类型"
   ]
  },
  {
   "cell_type": "markdown",
   "metadata": {},
   "source": [
    "# 循环"
   ]
  },
  {
   "cell_type": "code",
   "execution_count": 16,
   "metadata": {},
   "outputs": [
    {
     "name": "stdout",
     "output_type": "stream",
     "text": [
      "10\n"
     ]
    }
   ],
   "source": [
    "#while 循环\n",
    "count = 0\n",
    "while True:   #True 首字母要大写\n",
    "    count += 1 #变量+= 1\n",
    "    if count == 10:\n",
    "        break\n",
    "print(count)"
   ]
  },
  {
   "cell_type": "markdown",
   "metadata": {},
   "source": [
    "注意加一是 变量+= 1"
   ]
  },
  {
   "cell_type": "code",
   "execution_count": 1,
   "metadata": {},
   "outputs": [
    {
     "name": "stdout",
     "output_type": "stream",
     "text": [
      "0\n",
      "2\n",
      "4\n",
      "6\n",
      "8\n",
      "loop 0\n",
      "hehe\n",
      "loop 1\n",
      "hehe\n",
      "loop 2\n",
      "hehe\n",
      "loop 3\n",
      "hehe\n",
      "loop 4\n",
      "hehe\n"
     ]
    }
   ],
   "source": [
    "#for 循环\n",
    "count = 0\n",
    "for count in range(0,10,2):    #0数到9，步长为2\n",
    "    print(count)\n",
    "    \n",
    "for i in range(0,10):\n",
    "    if i < 5 :\n",
    "        print(\"loop\",i)\n",
    "    else:\n",
    "        continue\n",
    "    print(\"hehe\")\n",
    "    \n"
   ]
  },
  {
   "cell_type": "code",
   "execution_count": 1,
   "metadata": {},
   "outputs": [
    {
     "name": "stdout",
     "output_type": "stream",
     "text": [
      "输入左边界数字1\n",
      "输入右边界数字5\n",
      "输入你猜的数字4\n",
      "大了\n",
      "输入你猜的数字2\n",
      "小了\n",
      "输入你猜的数字3\n",
      "在第3 次后，终于答对了\n"
     ]
    }
   ],
   "source": [
    "#猜数\n",
    "import random\n",
    "small_number = int(input(\"输入左边界数字\"))\n",
    "large_number = int(input(\"输入右边界数字\"))\n",
    "my_number = random.randint(small_number,large_number) #调用random 方法random.randint\n",
    "count = 0\n",
    "while True:\n",
    "    count += 1\n",
    "    user_number = int(input(\"输入你猜的数字\"))\n",
    "    if user_number < my_number:\n",
    "        print(\"小了\")\n",
    "    elif user_number > my_number:\n",
    "        print(\"大了\")\n",
    "    else:\n",
    "        print(\"在第%d 次后，终于答对了\"%count)\n",
    "        break"
   ]
  },
  {
   "cell_type": "markdown",
   "metadata": {},
   "source": [
    "# 文件"
   ]
  },
  {
   "cell_type": "code",
   "execution_count": 3,
   "metadata": {},
   "outputs": [],
   "source": [
    "f = open(\"test.txt\",\"w\",encoding=\"utf-8\")\n",
    "f.write(\"你好啊/n开始测试\")\n",
    "f.close()"
   ]
  },
  {
   "cell_type": "code",
   "execution_count": 5,
   "metadata": {},
   "outputs": [
    {
     "name": "stdout",
     "output_type": "stream",
     "text": [
      "你好啊/n开始测试\n"
     ]
    },
    {
     "data": {
      "text/plain": [
       "<function TextIOWrapper.close>"
      ]
     },
     "execution_count": 5,
     "metadata": {},
     "output_type": "execute_result"
    }
   ],
   "source": [
    "f = open(\"test.txt\",\"r\",encoding=\"utf-8\")\n",
    "data = f.read()\n",
    "print(data)\n",
    "f.close"
   ]
  },
  {
   "cell_type": "code",
   "execution_count": null,
   "metadata": {
    "collapsed": true
   },
   "outputs": [],
   "source": []
  }
 ],
 "metadata": {
  "kernelspec": {
   "display_name": "Python 3",
   "language": "python",
   "name": "python3"
  },
  "language_info": {
   "codemirror_mode": {
    "name": "ipython",
    "version": 3
   },
   "file_extension": ".py",
   "mimetype": "text/x-python",
   "name": "python",
   "nbconvert_exporter": "python",
   "pygments_lexer": "ipython3",
   "version": "3.6.3"
  }
 },
 "nbformat": 4,
 "nbformat_minor": 2
}
